{
  "nbformat": 4,
  "nbformat_minor": 0,
  "metadata": {
    "colab": {
      "provenance": []
    },
    "kernelspec": {
      "name": "python3",
      "display_name": "Python 3"
    },
    "language_info": {
      "name": "python"
    }
  },
  "cells": [
    {
      "cell_type": "code",
      "execution_count": 65,
      "metadata": {
        "colab": {
          "base_uri": "https://localhost:8080/"
        },
        "id": "R6eE4AiC1bfr",
        "outputId": "d993fb35-f311-4ed7-e9e3-27caf1baecdb"
      },
      "outputs": [
        {
          "output_type": "stream",
          "name": "stdout",
          "text": [
            "     Age  Gender  Protein1  Protein2  Protein3  Protein4 Tumour_Stage  \\\n",
            "0     42  FEMALE  0.952560   2.15000  0.007972 -0.048340           II   \n",
            "1     54  FEMALE  0.000000   1.38020 -0.498030 -0.507320           II   \n",
            "2     63  FEMALE -0.523030   1.76400 -0.370190  0.010815           II   \n",
            "3     78  FEMALE -0.876180   0.12943 -0.370380  0.132190            I   \n",
            "4     42  FEMALE  0.226110   1.74910 -0.543970 -0.390210           II   \n",
            "..   ...     ...       ...       ...       ...       ...          ...   \n",
            "329   59  FEMALE  0.024598   1.40050  0.024751  0.280320           II   \n",
            "330   41  FEMALE  0.100120  -0.46547  0.472370 -0.523870            I   \n",
            "331   54  FEMALE  0.753820   1.64250 -0.332850  0.857860           II   \n",
            "332   74  FEMALE  0.972510   1.42680 -0.366570 -0.107820           II   \n",
            "333   66  FEMALE  0.286380   1.39980  0.318830  0.836050           II   \n",
            "\n",
            "                          Histology ER status PR status HER2 status  \\\n",
            "0     Infiltrating Ductal Carcinoma  Positive  Positive    Negative   \n",
            "1     Infiltrating Ductal Carcinoma  Positive  Positive    Negative   \n",
            "2     Infiltrating Ductal Carcinoma  Positive  Positive    Negative   \n",
            "3     Infiltrating Ductal Carcinoma  Positive  Positive    Negative   \n",
            "4     Infiltrating Ductal Carcinoma  Positive  Positive    Positive   \n",
            "..                              ...       ...       ...         ...   \n",
            "329   Infiltrating Ductal Carcinoma  Positive  Positive    Positive   \n",
            "330   Infiltrating Ductal Carcinoma  Positive  Positive    Positive   \n",
            "331   Infiltrating Ductal Carcinoma  Positive  Positive    Negative   \n",
            "332  Infiltrating Lobular Carcinoma  Positive  Positive    Negative   \n",
            "333   Infiltrating Ductal Carcinoma  Positive  Positive    Negative   \n",
            "\n",
            "                    Surgery_type Date_of_Surgery Date_of_Last_Visit  \\\n",
            "0                          Other       20-May-18          26-Aug-18   \n",
            "1                          Other       26-Apr-18          25-Jan-19   \n",
            "2                     Lumpectomy       24-Aug-18          08-Apr-20   \n",
            "3                          Other       16-Nov-18          28-Jul-20   \n",
            "4                     Lumpectomy       12-Dec-18          05-Jan-19   \n",
            "..                           ...             ...                ...   \n",
            "329                   Lumpectomy       15-Jan-19          27-Mar-20   \n",
            "330  Modified Radical Mastectomy       25-Jul-18          23-Apr-19   \n",
            "331            Simple Mastectomy       26-Mar-19          11-Oct-19   \n",
            "332                   Lumpectomy       26-Nov-18          05-Dec-18   \n",
            "333  Modified Radical Mastectomy       04-Feb-19          10-Aug-19   \n",
            "\n",
            "    Patient_Status  \n",
            "0            Alive  \n",
            "1             Dead  \n",
            "2            Alive  \n",
            "3            Alive  \n",
            "4            Alive  \n",
            "..             ...  \n",
            "329          Alive  \n",
            "330          Alive  \n",
            "331           Dead  \n",
            "332          Alive  \n",
            "333           Dead  \n",
            "\n",
            "[334 rows x 15 columns]\n",
            "     Age  Gender  Protein1  Protein2  Protein3  Protein4 Tumour_Stage  \\\n",
            "0     42  FEMALE  0.952560   2.15000  0.007972 -0.048340           II   \n",
            "1     54  FEMALE  0.000000   1.38020 -0.498030 -0.507320           II   \n",
            "2     63  FEMALE -0.523030   1.76400 -0.370190  0.010815           II   \n",
            "3     78  FEMALE -0.876180   0.12943 -0.370380  0.132190            I   \n",
            "4     42  FEMALE  0.226110   1.74910 -0.543970 -0.390210           II   \n",
            "..   ...     ...       ...       ...       ...       ...          ...   \n",
            "329   59  FEMALE  0.024598   1.40050  0.024751  0.280320           II   \n",
            "330   41  FEMALE  0.100120  -0.46547  0.472370 -0.523870            I   \n",
            "331   54  FEMALE  0.753820   1.64250 -0.332850  0.857860           II   \n",
            "332   74  FEMALE  0.972510   1.42680 -0.366570 -0.107820           II   \n",
            "333   66  FEMALE  0.286380   1.39980  0.318830  0.836050           II   \n",
            "\n",
            "    ER status PR status HER2 status Patient_Status  \n",
            "0    Positive  Positive    Negative          Alive  \n",
            "1    Positive  Positive    Negative           Dead  \n",
            "2    Positive  Positive    Negative          Alive  \n",
            "3    Positive  Positive    Negative          Alive  \n",
            "4    Positive  Positive    Positive          Alive  \n",
            "..        ...       ...         ...            ...  \n",
            "329  Positive  Positive    Positive          Alive  \n",
            "330  Positive  Positive    Positive          Alive  \n",
            "331  Positive  Positive    Negative           Dead  \n",
            "332  Positive  Positive    Negative          Alive  \n",
            "333  Positive  Positive    Negative           Dead  \n",
            "\n",
            "[334 rows x 11 columns]\n"
          ]
        }
      ],
      "source": [
        "import pandas as pd\n",
        "a=pd.read_csv(\"/content/breast_cancer_survival.csv\")\n",
        "print(a)\n",
        "\n",
        "a.isnull().sum()\n",
        "\n",
        "a=a.drop(columns=['Histology','Surgery_type','Date_of_Surgery','Date_of_Last_Visit'],axis=1)\n",
        "print(a)"
      ]
    },
    {
      "cell_type": "code",
      "source": [
        "col_replace=['ER status','PR status','HER2 status']\n",
        "a[col_replace]=a[col_replace].replace({'Positive': 1,'Negative': 0})\n",
        "print(a)"
      ],
      "metadata": {
        "colab": {
          "base_uri": "https://localhost:8080/"
        },
        "id": "NEnEUxLw2Qqw",
        "outputId": "0b20f406-7671-4d67-aa91-57713a99cd22"
      },
      "execution_count": 66,
      "outputs": [
        {
          "output_type": "stream",
          "name": "stdout",
          "text": [
            "     Age  Gender  Protein1  Protein2  Protein3  Protein4 Tumour_Stage  \\\n",
            "0     42  FEMALE  0.952560   2.15000  0.007972 -0.048340           II   \n",
            "1     54  FEMALE  0.000000   1.38020 -0.498030 -0.507320           II   \n",
            "2     63  FEMALE -0.523030   1.76400 -0.370190  0.010815           II   \n",
            "3     78  FEMALE -0.876180   0.12943 -0.370380  0.132190            I   \n",
            "4     42  FEMALE  0.226110   1.74910 -0.543970 -0.390210           II   \n",
            "..   ...     ...       ...       ...       ...       ...          ...   \n",
            "329   59  FEMALE  0.024598   1.40050  0.024751  0.280320           II   \n",
            "330   41  FEMALE  0.100120  -0.46547  0.472370 -0.523870            I   \n",
            "331   54  FEMALE  0.753820   1.64250 -0.332850  0.857860           II   \n",
            "332   74  FEMALE  0.972510   1.42680 -0.366570 -0.107820           II   \n",
            "333   66  FEMALE  0.286380   1.39980  0.318830  0.836050           II   \n",
            "\n",
            "     ER status  PR status  HER2 status Patient_Status  \n",
            "0            1          1            0          Alive  \n",
            "1            1          1            0           Dead  \n",
            "2            1          1            0          Alive  \n",
            "3            1          1            0          Alive  \n",
            "4            1          1            1          Alive  \n",
            "..         ...        ...          ...            ...  \n",
            "329          1          1            1          Alive  \n",
            "330          1          1            1          Alive  \n",
            "331          1          1            0           Dead  \n",
            "332          1          1            0          Alive  \n",
            "333          1          1            0           Dead  \n",
            "\n",
            "[334 rows x 11 columns]\n"
          ]
        }
      ]
    },
    {
      "cell_type": "code",
      "source": [
        "a['Patient_Status']=a['Patient_Status'].replace({'Alive':1,'Dead':0})\n",
        "round_Values=round(a.Patient_Status.mean())\n",
        "a.Patient_Status=a.Patient_Status.fillna(round_Values)\n",
        "print(a)"
      ],
      "metadata": {
        "colab": {
          "base_uri": "https://localhost:8080/"
        },
        "id": "1UAEz6nn3PKe",
        "outputId": "415ebac3-e53c-4c04-a8f3-246d631090fa"
      },
      "execution_count": 67,
      "outputs": [
        {
          "output_type": "stream",
          "name": "stdout",
          "text": [
            "     Age  Gender  Protein1  Protein2  Protein3  Protein4 Tumour_Stage  \\\n",
            "0     42  FEMALE  0.952560   2.15000  0.007972 -0.048340           II   \n",
            "1     54  FEMALE  0.000000   1.38020 -0.498030 -0.507320           II   \n",
            "2     63  FEMALE -0.523030   1.76400 -0.370190  0.010815           II   \n",
            "3     78  FEMALE -0.876180   0.12943 -0.370380  0.132190            I   \n",
            "4     42  FEMALE  0.226110   1.74910 -0.543970 -0.390210           II   \n",
            "..   ...     ...       ...       ...       ...       ...          ...   \n",
            "329   59  FEMALE  0.024598   1.40050  0.024751  0.280320           II   \n",
            "330   41  FEMALE  0.100120  -0.46547  0.472370 -0.523870            I   \n",
            "331   54  FEMALE  0.753820   1.64250 -0.332850  0.857860           II   \n",
            "332   74  FEMALE  0.972510   1.42680 -0.366570 -0.107820           II   \n",
            "333   66  FEMALE  0.286380   1.39980  0.318830  0.836050           II   \n",
            "\n",
            "     ER status  PR status  HER2 status  Patient_Status  \n",
            "0            1          1            0             1.0  \n",
            "1            1          1            0             0.0  \n",
            "2            1          1            0             1.0  \n",
            "3            1          1            0             1.0  \n",
            "4            1          1            1             1.0  \n",
            "..         ...        ...          ...             ...  \n",
            "329          1          1            1             1.0  \n",
            "330          1          1            1             1.0  \n",
            "331          1          1            0             0.0  \n",
            "332          1          1            0             1.0  \n",
            "333          1          1            0             0.0  \n",
            "\n",
            "[334 rows x 11 columns]\n"
          ]
        }
      ]
    },
    {
      "cell_type": "code",
      "source": [
        "a['Tumour_Stage']=a['Tumour_Stage'].replace({'I':1,'II':2,'III':3,'IV':4})\n",
        "a['Gender']=a['Gender'].replace({'FEMALE':0,'MALE':1})\n",
        "print(a)"
      ],
      "metadata": {
        "colab": {
          "base_uri": "https://localhost:8080/"
        },
        "id": "SBx125yn3d3E",
        "outputId": "14f9fe4d-ff46-4808-da11-093b87482839"
      },
      "execution_count": 68,
      "outputs": [
        {
          "output_type": "stream",
          "name": "stdout",
          "text": [
            "     Age  Gender  Protein1  Protein2  Protein3  Protein4  Tumour_Stage  \\\n",
            "0     42       0  0.952560   2.15000  0.007972 -0.048340             2   \n",
            "1     54       0  0.000000   1.38020 -0.498030 -0.507320             2   \n",
            "2     63       0 -0.523030   1.76400 -0.370190  0.010815             2   \n",
            "3     78       0 -0.876180   0.12943 -0.370380  0.132190             1   \n",
            "4     42       0  0.226110   1.74910 -0.543970 -0.390210             2   \n",
            "..   ...     ...       ...       ...       ...       ...           ...   \n",
            "329   59       0  0.024598   1.40050  0.024751  0.280320             2   \n",
            "330   41       0  0.100120  -0.46547  0.472370 -0.523870             1   \n",
            "331   54       0  0.753820   1.64250 -0.332850  0.857860             2   \n",
            "332   74       0  0.972510   1.42680 -0.366570 -0.107820             2   \n",
            "333   66       0  0.286380   1.39980  0.318830  0.836050             2   \n",
            "\n",
            "     ER status  PR status  HER2 status  Patient_Status  \n",
            "0            1          1            0             1.0  \n",
            "1            1          1            0             0.0  \n",
            "2            1          1            0             1.0  \n",
            "3            1          1            0             1.0  \n",
            "4            1          1            1             1.0  \n",
            "..         ...        ...          ...             ...  \n",
            "329          1          1            1             1.0  \n",
            "330          1          1            1             1.0  \n",
            "331          1          1            0             0.0  \n",
            "332          1          1            0             1.0  \n",
            "333          1          1            0             0.0  \n",
            "\n",
            "[334 rows x 11 columns]\n"
          ]
        }
      ]
    },
    {
      "cell_type": "code",
      "source": [
        "features=a.drop(columns=['Patient_Status','Gender'],axis=1)\n",
        "target=a['Patient_Status']\n",
        "print(features)\n",
        "print(target)"
      ],
      "metadata": {
        "colab": {
          "base_uri": "https://localhost:8080/"
        },
        "id": "zMiPHJB43gzT",
        "outputId": "1a2e36a5-0063-421c-c60f-7cdde1560a02"
      },
      "execution_count": 69,
      "outputs": [
        {
          "output_type": "stream",
          "name": "stdout",
          "text": [
            "     Age  Protein1  Protein2  Protein3  Protein4  Tumour_Stage  ER status  \\\n",
            "0     42  0.952560   2.15000  0.007972 -0.048340             2          1   \n",
            "1     54  0.000000   1.38020 -0.498030 -0.507320             2          1   \n",
            "2     63 -0.523030   1.76400 -0.370190  0.010815             2          1   \n",
            "3     78 -0.876180   0.12943 -0.370380  0.132190             1          1   \n",
            "4     42  0.226110   1.74910 -0.543970 -0.390210             2          1   \n",
            "..   ...       ...       ...       ...       ...           ...        ...   \n",
            "329   59  0.024598   1.40050  0.024751  0.280320             2          1   \n",
            "330   41  0.100120  -0.46547  0.472370 -0.523870             1          1   \n",
            "331   54  0.753820   1.64250 -0.332850  0.857860             2          1   \n",
            "332   74  0.972510   1.42680 -0.366570 -0.107820             2          1   \n",
            "333   66  0.286380   1.39980  0.318830  0.836050             2          1   \n",
            "\n",
            "     PR status  HER2 status  \n",
            "0            1            0  \n",
            "1            1            0  \n",
            "2            1            0  \n",
            "3            1            0  \n",
            "4            1            1  \n",
            "..         ...          ...  \n",
            "329          1            1  \n",
            "330          1            1  \n",
            "331          1            0  \n",
            "332          1            0  \n",
            "333          1            0  \n",
            "\n",
            "[334 rows x 9 columns]\n",
            "0      1.0\n",
            "1      0.0\n",
            "2      1.0\n",
            "3      1.0\n",
            "4      1.0\n",
            "      ... \n",
            "329    1.0\n",
            "330    1.0\n",
            "331    0.0\n",
            "332    1.0\n",
            "333    0.0\n",
            "Name: Patient_Status, Length: 334, dtype: float64\n"
          ]
        }
      ]
    },
    {
      "cell_type": "code",
      "source": [
        "import numpy as np\n",
        "import matplotlib.pyplot as plt\n",
        "from sklearn.model_selection import train_test_split\n",
        "from sklearn.neighbors import KNeighborsClassifier\n",
        "\n",
        "x_train,x_test,y_train,y_test=train_test_split(features,target,test_size=0.30)\n",
        "\n",
        "k_values=list(range(2,21))\n",
        "\n",
        "accuracy_scores=[]\n",
        "\n",
        "for k in k_values:\n",
        "  knn=KNeighborsClassifier(n_neighbors=k)\n",
        "  knn.fit(x_train,y_train)\n",
        "  accuracy=knn.score(x_test,y_test)\n",
        "  accuracy_scores.append(accuracy)\n",
        "\n",
        "plt.figure(figsize=(10,6))\n",
        "plt.plot(k_values,accuracy_scores,marker='o', linestyle='-', color='b')\n",
        "plt.title(\"KNN Accuracy\")\n",
        "plt.xlabel(\"Number of Neighbours(K)\")\n",
        "plt.ylabel(\"Accuracy\")\n",
        "plt.grid(True)\n",
        "plt.xticks(np.arange(2, 21, step=1))\n",
        "plt.show()\n"
      ],
      "metadata": {
        "colab": {
          "base_uri": "https://localhost:8080/",
          "height": 564
        },
        "id": "bKdaFCGP4dUS",
        "outputId": "408fcfe6-e2cf-421b-f953-d2dda99d5e24"
      },
      "execution_count": 70,
      "outputs": [
        {
          "output_type": "display_data",
          "data": {
            "text/plain": [
              "<Figure size 1000x600 with 1 Axes>"
            ],
            "image/png": "[encoded data removed]"
          },
          "metadata": {}
        }
      ]
    },
    {
      "cell_type": "code",
      "source": [
        "best_k_index=accuracy_scores.index(max(accuracy_scores))\n",
        "\n",
        "best_k_value=k_values[best_k_index]\n",
        "print(best_k_value)\n",
        "\n",
        "highest_accuracy=max(accuracy_scores)\n",
        "\n",
        "print(f\"The best k value is {best_k_value} with an accuarcy of {highest_accuracy}\")"
      ],
      "metadata": {
        "colab": {
          "base_uri": "https://localhost:8080/"
        },
        "id": "rtQiuZkV4pXE",
        "outputId": "f21091b9-d76f-482e-b348-6f9b71cfccd9"
      },
      "execution_count": 71,
      "outputs": [
        {
          "output_type": "stream",
          "name": "stdout",
          "text": [
            "11\n",
            "The best k value is 11 with an accuarcy of 0.8118811881188119\n"
          ]
        }
      ]
    },
    {
      "cell_type": "code",
      "source": [
        "import pandas as pd\n",
        "a=pd.read_csv(\"/content/Japan_life_expectancy.csv\")\n",
        "print(a)"
      ],
      "metadata": {
        "colab": {
          "base_uri": "https://localhost:8080/"
        },
        "id": "b_NHmDzsAlLp",
        "outputId": "54d9fd25-06f1-4bb5-c5cf-7cc05e5a87c9"
      },
      "execution_count": 72,
      "outputs": [
        {
          "output_type": "stream",
          "name": "stdout",
          "text": [
            "   Prefecture  Life_expectancy  Physician  Junior_col  University  \\\n",
            "0       Aichi            84.65      224.4        13.6        23.7   \n",
            "1       Akita            83.79      242.6        11.3        11.9   \n",
            "2      Aomori            82.80      212.5        11.4        11.8   \n",
            "3       Chiba            84.48      205.8        14.7        24.9   \n",
            "4       Ehime            84.24      276.7        14.2        18.0   \n",
            "5       Fukui            84.91      257.9        12.9        18.8   \n",
            "6     Fukuoka            84.54      309.9        14.2        20.4   \n",
            "7   Fukushima            83.71      205.7        11.6        13.1   \n",
            "8        Gifu            84.71      224.5        13.4        18.5   \n",
            "9       Gunma            84.16      233.8        14.7        17.5   \n",
            "10  Hiroshima            85.06      267.1        16.1        23.1   \n",
            "11   Hokkaido            84.00      251.3        14.1        14.4   \n",
            "12      Hyogo            84.81      266.1        13.7        24.5   \n",
            "13    Ibaraki            83.92      193.8        12.7        18.2   \n",
            "14   Ishikawa            85.06      291.6        14.7        19.8   \n",
            "15      Iwate            83.85      207.3        12.7        12.7   \n",
            "16     Kagawa            84.60      290.0        14.3        20.8   \n",
            "17  Kagoshima            84.24      283.6        14.4        14.0   \n",
            "18   Kanagawa            84.97      223.0        15.1        29.2   \n",
            "19      Kochi            84.32      322.0        12.9        14.3   \n",
            "20   Kumamoto            85.07      297.0        12.8        16.3   \n",
            "21      Kyoto            85.25      332.6        13.3        24.0   \n",
            "22        Mie            84.64      231.6        12.2        18.0   \n",
            "23     Miyagi            84.61      246.3        12.2        18.4   \n",
            "24   Miyazaki            84.38      255.5        12.2        13.4   \n",
            "25     Nagano            85.46      243.8        16.9        18.1   \n",
            "26   Nagasaki            84.21      319.1        12.3        14.1   \n",
            "27       Nara            85.18      277.1        15.2        26.3   \n",
            "28    Niigata            84.43      204.3        13.6        14.5   \n",
            "29       Oita            84.91      287.1        13.5        15.9   \n",
            "30    Okayama            85.10      320.1        13.9        20.4   \n",
            "31    Okinawa            84.31      257.2        13.9        15.8   \n",
            "32      Osaka            84.09      285.7        13.2        21.8   \n",
            "33       Saga            84.60      290.3        13.1        15.7   \n",
            "34    Saitama            84.38      177.8        15.1        23.9   \n",
            "35      Shiga            85.50      236.3        14.9        22.4   \n",
            "36    Shimane            84.92      297.1        12.9        15.8   \n",
            "37   Shizuoka            84.54      219.4        13.9        19.5   \n",
            "38    Tochigi            83.95      236.9        13.2        17.3   \n",
            "39  Tokushima            84.35      338.4        13.1        19.2   \n",
            "40      Tokyo            84.82      320.9        12.8        31.6   \n",
            "41    Tottori            84.63      314.8        13.4        16.6   \n",
            "42     Toyama            84.86      261.5        15.7        19.8   \n",
            "43   Wakayama            84.20      307.8        12.9        16.3   \n",
            "44   Yamagata            84.39      229.2        12.2        13.7   \n",
            "45  Yamaguchi            84.28      260.1        13.5        16.9   \n",
            "46  Yamanashi            84.83      250.1        15.9        19.9   \n",
            "\n",
            "    Public_Hosp  Pshic_hosp  Beds_psic  Nurses  Avg_hours  ...  Park  Forest  \\\n",
            "0          13.7         0.5      164.3   845.4      171.5  ...  17.2    42.1   \n",
            "1          34.0         1.7      404.6  1105.5      173.0  ...  10.6    70.3   \n",
            "2          42.9         1.4      348.7  1108.8      174.5  ...  11.8    63.6   \n",
            "3          16.1         0.5      195.8   749.1      173.5  ...   5.5    30.1   \n",
            "4          17.4         1.0      329.7  1277.5      178.0  ...   7.2    70.5   \n",
            "5          22.8         1.3      284.1  1124.5      173.0  ...  14.8    73.9   \n",
            "6           8.9         1.2      407.0  1333.7      172.5  ...  17.7    44.5   \n",
            "7          20.6         1.3      339.8   994.7      173.0  ...  13.0    68.0   \n",
            "8          24.7         0.6      195.2   942.7      175.0  ...  18.4    79.0   \n",
            "9          16.5         0.7      257.5  1054.1      174.0  ...  14.0    64.0   \n",
            "10         14.1         1.1      309.7  1198.5      174.5  ...   4.5    71.9   \n",
            "11         21.1         1.3      373.9  1274.1      174.0  ...  11.2    67.7   \n",
            "12         16.6         0.6      211.2   988.3      173.5  ...  19.8    66.9   \n",
            "13          8.5         0.7      252.6   806.3      173.5  ...  14.9    32.4   \n",
            "14         28.2         1.1      325.9  1199.3      174.0  ...  12.6    66.3   \n",
            "15         42.9         1.2      339.6  1045.7      173.5  ...   4.7    74.6   \n",
            "16         23.4         1.2      345.1  1278.9      175.0  ...  10.9    46.4   \n",
            "17          9.1         2.3      589.5  1562.5      175.0  ...  13.6    63.7   \n",
            "18         11.8         0.5      147.7   715.0      174.0  ...  22.8    38.7   \n",
            "19         11.7         1.6      515.2  1640.7      173.5  ...   6.7    83.3   \n",
            "20         18.2         2.2      502.7  1524.4      176.0  ...  21.0    61.8   \n",
            "21         16.4         0.4      229.8  1015.4      172.0  ...  20.6    74.2   \n",
            "22         25.9         0.7      260.3   948.6      176.0  ...  36.1    64.2   \n",
            "23         33.9         1.2      266.7   931.1      176.0  ...  23.5    55.4   \n",
            "24         19.2         1.6      545.5  1463.0      175.0  ...  11.9    75.5   \n",
            "25         24.3         0.7      226.1  1040.6      171.0  ...  20.5    75.3   \n",
            "26         18.3         2.1      594.9  1525.3      176.0  ...  17.9    58.5   \n",
            "27         21.1         0.3      218.0   936.8      173.0  ...  17.2    76.9   \n",
            "28         30.5         0.9      283.6   948.7      173.0  ...  25.2    63.5   \n",
            "29         10.2         2.2      466.1  1449.5      176.0  ...  27.6    70.8   \n",
            "30         16.6         0.8      279.2  1200.5      175.0  ...  11.3    68.1   \n",
            "31         18.2         0.9      360.4  1096.1      174.5  ...  35.7    46.7   \n",
            "32          8.0         0.4      205.5   954.9      173.0  ...  10.5    29.9   \n",
            "33         16.3         1.7      512.8  1528.5      177.5  ...  11.0    45.3   \n",
            "34          7.4         0.6      187.5   704.0      174.0  ...  32.8    31.4   \n",
            "35         34.0         0.5      161.3   895.4      173.0  ...  37.3    50.7   \n",
            "36         42.1         1.3      336.6  1271.9      173.5  ...   6.0    78.0   \n",
            "37         24.3         0.9      180.4   855.1      173.0  ...  10.8    62.8   \n",
            "38          8.0         0.9      249.3   921.6      172.5  ...  20.8    52.9   \n",
            "39         15.2         2.1      496.8  1374.7      172.0  ...   9.3    75.4   \n",
            "40          8.0         0.4      154.3   780.7      171.5  ...  36.4    34.7   \n",
            "41         33.3         0.7      320.6  1341.0      173.0  ...  14.0    73.4   \n",
            "42         20.7         1.8      299.0  1164.4      173.0  ...  29.6    56.6   \n",
            "43         21.3         0.9      222.0  1171.8      175.0  ...  12.6    76.2   \n",
            "44         49.1         1.3      326.9  1045.1      173.0  ...  16.7    69.0   \n",
            "45         19.3         2.1      435.5  1404.1      174.0  ...   7.0    71.4   \n",
            "46         34.6         1.0      280.6   975.2      174.0  ...  27.1    77.8   \n",
            "\n",
            "    Income_per capita  Density_pop  Hospitals    Beds  Ambulances  Health_exp  \\\n",
            "0              3728.0       2517.7        3.8   758.7         3.7        2.06   \n",
            "1              2697.0        296.8        5.2  1168.5         9.0        3.24   \n",
            "2              2507.0        380.5        6.2  1112.8         9.1        3.40   \n",
            "3              3116.0       1778.4        4.1   806.2         4.2        3.53   \n",
            "4              2658.0        801.2        9.1  1274.2         7.1        4.82   \n",
            "5              3280.0        711.9        7.4  1148.3         7.3        2.40   \n",
            "6              2885.0       1858.3        7.7  1328.3         3.8        2.54   \n",
            "7              2943.0        433.3        5.6  1033.2         7.4        3.09   \n",
            "8              2919.0        895.1        4.3   834.1         7.5        3.18   \n",
            "9              3283.0        854.6        5.9  1047.7         5.8        2.59   \n",
            "10             3109.0       1217.9        7.4  1090.0         6.0        3.59   \n",
            "11             2742.0        230.2        9.2  1500.7         8.1        2.52   \n",
            "12             2968.0       1973.3        5.7   981.0         4.2        2.93   \n",
            "13             3327.0        737.2        5.3   917.2         6.0        3.06   \n",
            "14             3023.0        812.1        6.9  1221.1         5.7        2.51   \n",
            "15             2841.0        322.7        6.4  1070.8         8.4        6.05   \n",
            "16             3013.0        945.6        8.1  1188.6         5.6        4.02   \n",
            "17             2509.0        483.0       12.4  1578.1         8.8        3.32   \n",
            "18             3268.0       6267.5        3.1   676.9         3.4        2.82   \n",
            "19             2644.0        595.5       16.1  2052.6        10.1        3.84   \n",
            "20             2667.0        632.8        9.8  1440.2         6.9        3.60   \n",
            "21             2983.0       2189.8        5.9  1130.5         4.5        2.74   \n",
            "22             3121.0        857.6        4.6   903.4         6.8        3.58   \n",
            "23             2945.0        722.6        4.7   857.0         5.3        2.90   \n",
            "24             2468.0        570.1       11.2  1326.4         5.2        3.32   \n",
            "25             3010.0        630.4        5.4  1010.2         7.1        2.61   \n",
            "26             2629.0        786.8        9.1  1420.3         7.2        3.07   \n",
            "27             2632.0       1551.1        5.4  1122.0         6.2        4.06   \n",
            "28             2916.0        483.8        4.8   982.2         7.2        3.84   \n",
            "29             2714.0        626.1       11.4  1297.8         6.7        2.58   \n",
            "30             2769.0        847.5        7.7  1199.9         6.4        2.17   \n",
            "31             2391.0       1302.6        5.2  1044.5         5.7        4.37   \n",
            "32             3190.0       6624.7        5.4  1026.5         3.6        2.31   \n",
            "33             2753.0        608.0       10.6  1455.7         6.3        2.96   \n",
            "34             3047.0       2821.6        4.0   713.5         3.9        3.08   \n",
            "35             3318.0       1087.8        3.5   861.2         4.7        3.68   \n",
            "36             2667.0        528.0        5.7  1185.9        11.6        3.97   \n",
            "37             3432.0       1309.4        3.9   842.4         4.8        4.17   \n",
            "38             3479.0        643.3        4.5   896.0         5.5        4.21   \n",
            "39             3092.0        708.2       12.8  1440.7         7.4        5.00   \n",
            "40             5415.0       9873.3        4.2   807.7         2.6        3.32   \n",
            "41             2515.0        611.9        7.0  1372.9         6.0        3.61   \n",
            "42             3398.0        561.7        8.4  1232.7         6.2        3.03   \n",
            "43             2913.0        821.3        8.1  1227.2         9.1        2.33   \n",
            "44             2897.0        371.7        5.0  1051.7         7.4        5.47   \n",
            "45             3199.0        782.5        8.5  1430.5         6.9        3.21   \n",
            "46             3160.0        849.8        6.4  1080.8         8.0        3.20   \n",
            "\n",
            "    Educ_exp  Welfare_exp  \n",
            "0      21.41        16.53  \n",
            "1      17.93        13.50  \n",
            "2      20.98        15.92  \n",
            "3      25.44        18.24  \n",
            "4      20.47        15.60  \n",
            "5      20.51        12.38  \n",
            "6      18.82        21.51  \n",
            "7      17.63        18.81  \n",
            "8      24.82        15.29  \n",
            "9      24.21        17.28  \n",
            "10     20.43        17.98  \n",
            "11     17.74        16.18  \n",
            "12     20.43        17.80  \n",
            "13     26.37        17.50  \n",
            "14     20.12        13.93  \n",
            "15     16.04        10.31  \n",
            "16     21.53        15.26  \n",
            "17     23.49        17.85  \n",
            "18     21.51        23.01  \n",
            "19     21.66        14.74  \n",
            "20     17.09        17.18  \n",
            "21     20.62        19.24  \n",
            "22     25.42        17.18  \n",
            "23     17.21        13.48  \n",
            "24     20.23        15.88  \n",
            "25     25.09        15.48  \n",
            "26     22.18        15.58  \n",
            "27     24.66        17.52  \n",
            "28     17.42        12.72  \n",
            "29     21.21        15.15  \n",
            "30     20.93        16.41  \n",
            "31     24.61        17.73  \n",
            "32     20.94        21.42  \n",
            "33     22.49        15.24  \n",
            "34     27.53        20.49  \n",
            "35     27.02        15.43  \n",
            "36     19.81        11.87  \n",
            "37     21.17        16.83  \n",
            "38     25.05        16.23  \n",
            "39     17.41        13.38  \n",
            "40     16.76        14.47  \n",
            "41     19.09        13.63  \n",
            "42     22.56        13.28  \n",
            "43     19.84        14.37  \n",
            "44     19.28        13.18  \n",
            "45     23.56        15.21  \n",
            "46     20.87        12.34  \n",
            "\n",
            "[47 rows x 23 columns]\n"
          ]
        }
      ]
    },
    {
      "cell_type": "code",
      "source": [
        "x=a.drop(columns=[\"Prefecture\",'Life_expectancy'],axis=1)\n",
        "y=a[\"Life_expectancy\"]"
      ],
      "metadata": {
        "id": "UIUMHmVnCjnZ"
      },
      "execution_count": 73,
      "outputs": []
    },
    {
      "cell_type": "code",
      "source": [
        "from sklearn.model_selection import train_test_split\n",
        "from sklearn.linear_model import LinearRegression\n",
        "from sklearn.metrics import mean_squared_error\n",
        "from sklearn.neighbors import KNeighborsRegressor\n",
        "\n",
        "x_train, x_test, y_train, y_test = train_test_split(x, y, test_size=0.3)\n",
        "\n",
        "mse_scores=[]\n",
        "\n",
        "for k in range(1,21):\n",
        "  knn_regressor=KNeighborsRegressor(n_neighbors=k)\n",
        "  knn_regressor.fit(x_train,y_train)\n",
        "  y_pred=knn_regressor.predict(x_test)\n",
        "  mse=mean_squared_error(y_test,y_pred)\n",
        "  mse_scores.append(mse)\n",
        "\n",
        "plt.figure(figsize=(10, 6))\n",
        "plt.plot(range(1,21), mse_scores, marker='o', linestyle='-', color='b')\n",
        "plt.title('MSE vs. K Value in KNN Regression')\n",
        "plt.xlabel('Number of Neighbors (K)')\n",
        "plt.ylabel('Mean Squared Error (MSE)')\n",
        "plt.grid(True)\n",
        "plt.xticks(np.arange(1, 21, step=1))\n",
        "plt.show()\n"
      ],
      "metadata": {
        "colab": {
          "base_uri": "https://localhost:8080/",
          "height": 564
        },
        "id": "8m0_WfuGCyFP",
        "outputId": "17e9e29b-7c1a-4e02-9bd0-8a5a38687374"
      },
      "execution_count": 74,
      "outputs": [
        {
          "output_type": "display_data",
          "data": {
            "text/plain": [
              "<Figure size 1000x600 with 1 Axes>"
            ],
            "image/png": "[encoded data removed]"
          },
          "metadata": {}
        }
      ]
    },
    {
      "cell_type": "code",
      "source": [
        "min_k_index=mse_scores.index(min(mse_scores))\n",
        "\n",
        "min_k_value=mse_scores[min_k_index]\n",
        "print(min_k_value)\n",
        "\n",
        "min_error=min(mse_scores)\n",
        "\n",
        "print(f\"The best k value is {min_k_index} with an accuarcy of {min_error}\")"
      ],
      "metadata": {
        "colab": {
          "base_uri": "https://localhost:8080/"
        },
        "id": "6nh7m5dXGzeP",
        "outputId": "efa827c7-bd9d-4f12-d9c4-8f790ba5cffb"
      },
      "execution_count": 75,
      "outputs": [
        {
          "output_type": "stream",
          "name": "stdout",
          "text": [
            "0.1840660416666663\n",
            "The best k value is 7 with an accuarcy of 0.1840660416666663\n"
          ]
        }
      ]
    },
    {
      "cell_type": "code",
      "source": [],
      "metadata": {
        "id": "2sLRMgy2IBk7"
      },
      "execution_count": null,
      "outputs": []
    }
  ]
}