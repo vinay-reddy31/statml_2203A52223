{
  "nbformat": 4,
  "nbformat_minor": 0,
  "metadata": {
    "colab": {
      "provenance": []
    },
    "kernelspec": {
      "name": "python3",
      "display_name": "Python 3"
    },
    "language_info": {
      "name": "python"
    }
  },
  "cells": [
    {
      "cell_type": "code",
      "execution_count": 31,
      "metadata": {
        "colab": {
          "base_uri": "https://localhost:8080/"
        },
        "id": "iWgKJDsXnIfA",
        "outputId": "bc2f3e4a-0003-47b1-eec6-2264b08996f7"
      },
      "outputs": [
        {
          "output_type": "stream",
          "name": "stdout",
          "text": [
            "    YearsExperience    Salary\n",
            "0               1.1   39343.0\n",
            "1               1.3   46205.0\n",
            "2               1.5   37731.0\n",
            "3               2.0   43525.0\n",
            "4               2.2   39891.0\n",
            "5               2.9   56642.0\n",
            "6               3.0   60150.0\n",
            "7               3.2   54445.0\n",
            "8               3.2   64445.0\n",
            "9               3.7   57189.0\n",
            "10              3.9   63218.0\n",
            "11              4.0   55794.0\n",
            "12              4.0   56957.0\n",
            "13              4.1   57081.0\n",
            "14              4.5   61111.0\n",
            "15              4.9   67938.0\n",
            "16              5.1   66029.0\n",
            "17              5.3   83088.0\n",
            "18              5.9   81363.0\n",
            "19              6.0   93940.0\n",
            "20              6.8   91738.0\n",
            "21              7.1   98273.0\n",
            "22              7.9  101302.0\n",
            "23              8.2  113812.0\n",
            "24              8.7  109431.0\n",
            "25              9.0  105582.0\n",
            "26              9.5  116969.0\n",
            "27              9.6  112635.0\n",
            "28             10.3  122391.0\n",
            "29             10.5  121872.0\n"
          ]
        }
      ],
      "source": [
        "import pandas as pd\n",
        "import numpy as np\n",
        "import matplotlib.pyplot as plt\n",
        "a=pd.read_csv(\"/content/Salary_Data.csv\")\n",
        "print(a)"
      ]
    },
    {
      "cell_type": "code",
      "source": [
        "x=a[\"YearsExperience\"]\n",
        "y=a[\"Salary\"]\n",
        "print(x)"
      ],
      "metadata": {
        "colab": {
          "base_uri": "https://localhost:8080/"
        },
        "id": "kXg4VYLVnU7z",
        "outputId": "b6b16df7-fa8e-4538-a7c3-37f8ac6ccead"
      },
      "execution_count": 32,
      "outputs": [
        {
          "output_type": "stream",
          "name": "stdout",
          "text": [
            "0      1.1\n",
            "1      1.3\n",
            "2      1.5\n",
            "3      2.0\n",
            "4      2.2\n",
            "5      2.9\n",
            "6      3.0\n",
            "7      3.2\n",
            "8      3.2\n",
            "9      3.7\n",
            "10     3.9\n",
            "11     4.0\n",
            "12     4.0\n",
            "13     4.1\n",
            "14     4.5\n",
            "15     4.9\n",
            "16     5.1\n",
            "17     5.3\n",
            "18     5.9\n",
            "19     6.0\n",
            "20     6.8\n",
            "21     7.1\n",
            "22     7.9\n",
            "23     8.2\n",
            "24     8.7\n",
            "25     9.0\n",
            "26     9.5\n",
            "27     9.6\n",
            "28    10.3\n",
            "29    10.5\n",
            "Name: YearsExperience, dtype: float64\n"
          ]
        }
      ]
    },
    {
      "cell_type": "code",
      "source": [
        "print(y)"
      ],
      "metadata": {
        "colab": {
          "base_uri": "https://localhost:8080/"
        },
        "id": "YX3jU58XnjMV",
        "outputId": "31ff3051-c88a-4a6d-d333-c2bbe93477d7"
      },
      "execution_count": 33,
      "outputs": [
        {
          "output_type": "stream",
          "name": "stdout",
          "text": [
            "0      39343.0\n",
            "1      46205.0\n",
            "2      37731.0\n",
            "3      43525.0\n",
            "4      39891.0\n",
            "5      56642.0\n",
            "6      60150.0\n",
            "7      54445.0\n",
            "8      64445.0\n",
            "9      57189.0\n",
            "10     63218.0\n",
            "11     55794.0\n",
            "12     56957.0\n",
            "13     57081.0\n",
            "14     61111.0\n",
            "15     67938.0\n",
            "16     66029.0\n",
            "17     83088.0\n",
            "18     81363.0\n",
            "19     93940.0\n",
            "20     91738.0\n",
            "21     98273.0\n",
            "22    101302.0\n",
            "23    113812.0\n",
            "24    109431.0\n",
            "25    105582.0\n",
            "26    116969.0\n",
            "27    112635.0\n",
            "28    122391.0\n",
            "29    121872.0\n",
            "Name: Salary, dtype: float64\n"
          ]
        }
      ]
    },
    {
      "cell_type": "code",
      "source": [
        "plt.plot(x,y)"
      ],
      "metadata": {
        "colab": {
          "base_uri": "https://localhost:8080/",
          "height": 447
        },
        "id": "JNOhsWginoLX",
        "outputId": "9c3c7b32-9e14-4129-9ae0-9843c429b279"
      },
      "execution_count": 34,
      "outputs": [
        {
          "output_type": "execute_result",
          "data": {
            "text/plain": [
              "[<matplotlib.lines.Line2D at 0x7ab1aad72470>]"
            ]
          },
          "metadata": {},
          "execution_count": 34
        },
        {
          "output_type": "display_data",
          "data": {
            "text/plain": [
              "<Figure size 640x480 with 1 Axes>"
            ],
            "image/png": "[encoded data removed]"
          },
          "metadata": {}
        }
      ]
    },
    {
      "cell_type": "code",
      "source": [
        "import numpy as np\n",
        "x_t=x.transpose()\n",
        "x_trans=(x_t*y)\n",
        "w=x_trans*(x_t*x)**-1\n",
        "print(w)"
      ],
      "metadata": {
        "colab": {
          "base_uri": "https://localhost:8080/"
        },
        "id": "fH4zUp0NnrKG",
        "outputId": "d5512e67-c7c0-4f5c-9a21-e363aca3cb15"
      },
      "execution_count": 35,
      "outputs": [
        {
          "output_type": "stream",
          "name": "stdout",
          "text": [
            "0     35766.363636\n",
            "1     35542.307692\n",
            "2     25154.000000\n",
            "3     21762.500000\n",
            "4     18132.272727\n",
            "5     19531.724138\n",
            "6     20050.000000\n",
            "7     17014.062500\n",
            "8     20139.062500\n",
            "9     15456.486486\n",
            "10    16209.743590\n",
            "11    13948.500000\n",
            "12    14239.250000\n",
            "13    13922.195122\n",
            "14    13580.222222\n",
            "15    13864.897959\n",
            "16    12946.862745\n",
            "17    15676.981132\n",
            "18    13790.338983\n",
            "19    15656.666667\n",
            "20    13490.882353\n",
            "21    13841.267606\n",
            "22    12823.037975\n",
            "23    13879.512195\n",
            "24    12578.275862\n",
            "25    11731.333333\n",
            "26    12312.526316\n",
            "27    11732.812500\n",
            "28    11882.621359\n",
            "29    11606.857143\n",
            "dtype: float64\n"
          ]
        }
      ]
    },
    {
      "cell_type": "code",
      "source": [
        "yp=[]\n",
        "for i in range(len(x)):\n",
        "  z=w[i]*x[i]\n",
        "  yp.append(z)\n",
        "print(yp)"
      ],
      "metadata": {
        "colab": {
          "base_uri": "https://localhost:8080/"
        },
        "id": "ZRo6P2yfs-7Z",
        "outputId": "7cff5002-dc9b-4e3f-9ba9-75478e68611d"
      },
      "execution_count": 36,
      "outputs": [
        {
          "output_type": "stream",
          "name": "stdout",
          "text": [
            "[39343.0, 46204.99999999999, 37731.0, 43525.0, 39891.00000000001, 56641.99999999999, 60150.0, 54444.99999999999, 64444.99999999999, 57189.0, 63217.99999999999, 55794.0, 56957.0, 57080.99999999999, 61110.99999999999, 67937.99999999999, 66029.0, 83087.99999999999, 81363.0, 93940.0, 91738.00000000001, 98272.99999999999, 101302.00000000001, 113811.99999999999, 109431.00000000001, 105581.99999999999, 116969.0, 112635.0, 122391.0, 121872.0]\n"
          ]
        }
      ]
    },
    {
      "cell_type": "code",
      "source": [
        "error=[]\n",
        "for i in range(len(x)):\n",
        "  z=(y[i]-yp[i])**2\n",
        "  error.append(z)\n",
        "mean_error=sum(error)/len(x)\n",
        "print(mean_error)"
      ],
      "metadata": {
        "colab": {
          "base_uri": "https://localhost:8080/"
        },
        "id": "9U8GEowix3wP",
        "outputId": "70caebfe-66c8-4d19-a715-12ea877da98e"
      },
      "execution_count": 37,
      "outputs": [
        {
          "output_type": "stream",
          "name": "stdout",
          "text": [
            "7.058607893785836e-23\n"
          ]
        }
      ]
    },
    {
      "cell_type": "code",
      "source": [
        "a2=pd.read_csv(\"/content/Japan_life_expectancy.csv\")\n",
        "print(a2)"
      ],
      "metadata": {
        "colab": {
          "base_uri": "https://localhost:8080/"
        },
        "id": "8eUvv6I7ypOt",
        "outputId": "6e70674d-b005-4bbe-c370-8f1eaaf48657"
      },
      "execution_count": 38,
      "outputs": [
        {
          "output_type": "stream",
          "name": "stdout",
          "text": [
            "   Prefecture  Life_expectancy  Physician  Junior_col  University  \\\n",
            "0       Aichi            84.65      224.4        13.6        23.7   \n",
            "1       Akita            83.79      242.6        11.3        11.9   \n",
            "2      Aomori            82.80      212.5        11.4        11.8   \n",
            "3       Chiba            84.48      205.8        14.7        24.9   \n",
            "4       Ehime            84.24      276.7        14.2        18.0   \n",
            "5       Fukui            84.91      257.9        12.9        18.8   \n",
            "6     Fukuoka            84.54      309.9        14.2        20.4   \n",
            "7   Fukushima            83.71      205.7        11.6        13.1   \n",
            "8        Gifu            84.71      224.5        13.4        18.5   \n",
            "9       Gunma            84.16      233.8        14.7        17.5   \n",
            "10  Hiroshima            85.06      267.1        16.1        23.1   \n",
            "11   Hokkaido            84.00      251.3        14.1        14.4   \n",
            "12      Hyogo            84.81      266.1        13.7        24.5   \n",
            "13    Ibaraki            83.92      193.8        12.7        18.2   \n",
            "14   Ishikawa            85.06      291.6        14.7        19.8   \n",
            "15      Iwate            83.85      207.3        12.7        12.7   \n",
            "16     Kagawa            84.60      290.0        14.3        20.8   \n",
            "17  Kagoshima            84.24      283.6        14.4        14.0   \n",
            "18   Kanagawa            84.97      223.0        15.1        29.2   \n",
            "19      Kochi            84.32      322.0        12.9        14.3   \n",
            "20   Kumamoto            85.07      297.0        12.8        16.3   \n",
            "21      Kyoto            85.25      332.6        13.3        24.0   \n",
            "22        Mie            84.64      231.6        12.2        18.0   \n",
            "23     Miyagi            84.61      246.3        12.2        18.4   \n",
            "24   Miyazaki            84.38      255.5        12.2        13.4   \n",
            "25     Nagano            85.46      243.8        16.9        18.1   \n",
            "26   Nagasaki            84.21      319.1        12.3        14.1   \n",
            "27       Nara            85.18      277.1        15.2        26.3   \n",
            "28    Niigata            84.43      204.3        13.6        14.5   \n",
            "29       Oita            84.91      287.1        13.5        15.9   \n",
            "30    Okayama            85.10      320.1        13.9        20.4   \n",
            "31    Okinawa            84.31      257.2        13.9        15.8   \n",
            "32      Osaka            84.09      285.7        13.2        21.8   \n",
            "33       Saga            84.60      290.3        13.1        15.7   \n",
            "34    Saitama            84.38      177.8        15.1        23.9   \n",
            "35      Shiga            85.50      236.3        14.9        22.4   \n",
            "36    Shimane            84.92      297.1        12.9        15.8   \n",
            "37   Shizuoka            84.54      219.4        13.9        19.5   \n",
            "38    Tochigi            83.95      236.9        13.2        17.3   \n",
            "39  Tokushima            84.35      338.4        13.1        19.2   \n",
            "40      Tokyo            84.82      320.9        12.8        31.6   \n",
            "41    Tottori            84.63      314.8        13.4        16.6   \n",
            "42     Toyama            84.86      261.5        15.7        19.8   \n",
            "43   Wakayama            84.20      307.8        12.9        16.3   \n",
            "44   Yamagata            84.39      229.2        12.2        13.7   \n",
            "45  Yamaguchi            84.28      260.1        13.5        16.9   \n",
            "46  Yamanashi            84.83      250.1        15.9        19.9   \n",
            "\n",
            "    Public_Hosp  Pshic_hosp  Beds_psic  Nurses  Avg_hours  ...  Park  Forest  \\\n",
            "0          13.7         0.5      164.3   845.4      171.5  ...  17.2    42.1   \n",
            "1          34.0         1.7      404.6  1105.5      173.0  ...  10.6    70.3   \n",
            "2          42.9         1.4      348.7  1108.8      174.5  ...  11.8    63.6   \n",
            "3          16.1         0.5      195.8   749.1      173.5  ...   5.5    30.1   \n",
            "4          17.4         1.0      329.7  1277.5      178.0  ...   7.2    70.5   \n",
            "5          22.8         1.3      284.1  1124.5      173.0  ...  14.8    73.9   \n",
            "6           8.9         1.2      407.0  1333.7      172.5  ...  17.7    44.5   \n",
            "7          20.6         1.3      339.8   994.7      173.0  ...  13.0    68.0   \n",
            "8          24.7         0.6      195.2   942.7      175.0  ...  18.4    79.0   \n",
            "9          16.5         0.7      257.5  1054.1      174.0  ...  14.0    64.0   \n",
            "10         14.1         1.1      309.7  1198.5      174.5  ...   4.5    71.9   \n",
            "11         21.1         1.3      373.9  1274.1      174.0  ...  11.2    67.7   \n",
            "12         16.6         0.6      211.2   988.3      173.5  ...  19.8    66.9   \n",
            "13          8.5         0.7      252.6   806.3      173.5  ...  14.9    32.4   \n",
            "14         28.2         1.1      325.9  1199.3      174.0  ...  12.6    66.3   \n",
            "15         42.9         1.2      339.6  1045.7      173.5  ...   4.7    74.6   \n",
            "16         23.4         1.2      345.1  1278.9      175.0  ...  10.9    46.4   \n",
            "17          9.1         2.3      589.5  1562.5      175.0  ...  13.6    63.7   \n",
            "18         11.8         0.5      147.7   715.0      174.0  ...  22.8    38.7   \n",
            "19         11.7         1.6      515.2  1640.7      173.5  ...   6.7    83.3   \n",
            "20         18.2         2.2      502.7  1524.4      176.0  ...  21.0    61.8   \n",
            "21         16.4         0.4      229.8  1015.4      172.0  ...  20.6    74.2   \n",
            "22         25.9         0.7      260.3   948.6      176.0  ...  36.1    64.2   \n",
            "23         33.9         1.2      266.7   931.1      176.0  ...  23.5    55.4   \n",
            "24         19.2         1.6      545.5  1463.0      175.0  ...  11.9    75.5   \n",
            "25         24.3         0.7      226.1  1040.6      171.0  ...  20.5    75.3   \n",
            "26         18.3         2.1      594.9  1525.3      176.0  ...  17.9    58.5   \n",
            "27         21.1         0.3      218.0   936.8      173.0  ...  17.2    76.9   \n",
            "28         30.5         0.9      283.6   948.7      173.0  ...  25.2    63.5   \n",
            "29         10.2         2.2      466.1  1449.5      176.0  ...  27.6    70.8   \n",
            "30         16.6         0.8      279.2  1200.5      175.0  ...  11.3    68.1   \n",
            "31         18.2         0.9      360.4  1096.1      174.5  ...  35.7    46.7   \n",
            "32          8.0         0.4      205.5   954.9      173.0  ...  10.5    29.9   \n",
            "33         16.3         1.7      512.8  1528.5      177.5  ...  11.0    45.3   \n",
            "34          7.4         0.6      187.5   704.0      174.0  ...  32.8    31.4   \n",
            "35         34.0         0.5      161.3   895.4      173.0  ...  37.3    50.7   \n",
            "36         42.1         1.3      336.6  1271.9      173.5  ...   6.0    78.0   \n",
            "37         24.3         0.9      180.4   855.1      173.0  ...  10.8    62.8   \n",
            "38          8.0         0.9      249.3   921.6      172.5  ...  20.8    52.9   \n",
            "39         15.2         2.1      496.8  1374.7      172.0  ...   9.3    75.4   \n",
            "40          8.0         0.4      154.3   780.7      171.5  ...  36.4    34.7   \n",
            "41         33.3         0.7      320.6  1341.0      173.0  ...  14.0    73.4   \n",
            "42         20.7         1.8      299.0  1164.4      173.0  ...  29.6    56.6   \n",
            "43         21.3         0.9      222.0  1171.8      175.0  ...  12.6    76.2   \n",
            "44         49.1         1.3      326.9  1045.1      173.0  ...  16.7    69.0   \n",
            "45         19.3         2.1      435.5  1404.1      174.0  ...   7.0    71.4   \n",
            "46         34.6         1.0      280.6   975.2      174.0  ...  27.1    77.8   \n",
            "\n",
            "    Income_per capita  Density_pop  Hospitals    Beds  Ambulances  Health_exp  \\\n",
            "0              3728.0       2517.7        3.8   758.7         3.7        2.06   \n",
            "1              2697.0        296.8        5.2  1168.5         9.0        3.24   \n",
            "2              2507.0        380.5        6.2  1112.8         9.1        3.40   \n",
            "3              3116.0       1778.4        4.1   806.2         4.2        3.53   \n",
            "4              2658.0        801.2        9.1  1274.2         7.1        4.82   \n",
            "5              3280.0        711.9        7.4  1148.3         7.3        2.40   \n",
            "6              2885.0       1858.3        7.7  1328.3         3.8        2.54   \n",
            "7              2943.0        433.3        5.6  1033.2         7.4        3.09   \n",
            "8              2919.0        895.1        4.3   834.1         7.5        3.18   \n",
            "9              3283.0        854.6        5.9  1047.7         5.8        2.59   \n",
            "10             3109.0       1217.9        7.4  1090.0         6.0        3.59   \n",
            "11             2742.0        230.2        9.2  1500.7         8.1        2.52   \n",
            "12             2968.0       1973.3        5.7   981.0         4.2        2.93   \n",
            "13             3327.0        737.2        5.3   917.2         6.0        3.06   \n",
            "14             3023.0        812.1        6.9  1221.1         5.7        2.51   \n",
            "15             2841.0        322.7        6.4  1070.8         8.4        6.05   \n",
            "16             3013.0        945.6        8.1  1188.6         5.6        4.02   \n",
            "17             2509.0        483.0       12.4  1578.1         8.8        3.32   \n",
            "18             3268.0       6267.5        3.1   676.9         3.4        2.82   \n",
            "19             2644.0        595.5       16.1  2052.6        10.1        3.84   \n",
            "20             2667.0        632.8        9.8  1440.2         6.9        3.60   \n",
            "21             2983.0       2189.8        5.9  1130.5         4.5        2.74   \n",
            "22             3121.0        857.6        4.6   903.4         6.8        3.58   \n",
            "23             2945.0        722.6        4.7   857.0         5.3        2.90   \n",
            "24             2468.0        570.1       11.2  1326.4         5.2        3.32   \n",
            "25             3010.0        630.4        5.4  1010.2         7.1        2.61   \n",
            "26             2629.0        786.8        9.1  1420.3         7.2        3.07   \n",
            "27             2632.0       1551.1        5.4  1122.0         6.2        4.06   \n",
            "28             2916.0        483.8        4.8   982.2         7.2        3.84   \n",
            "29             2714.0        626.1       11.4  1297.8         6.7        2.58   \n",
            "30             2769.0        847.5        7.7  1199.9         6.4        2.17   \n",
            "31             2391.0       1302.6        5.2  1044.5         5.7        4.37   \n",
            "32             3190.0       6624.7        5.4  1026.5         3.6        2.31   \n",
            "33             2753.0        608.0       10.6  1455.7         6.3        2.96   \n",
            "34             3047.0       2821.6        4.0   713.5         3.9        3.08   \n",
            "35             3318.0       1087.8        3.5   861.2         4.7        3.68   \n",
            "36             2667.0        528.0        5.7  1185.9        11.6        3.97   \n",
            "37             3432.0       1309.4        3.9   842.4         4.8        4.17   \n",
            "38             3479.0        643.3        4.5   896.0         5.5        4.21   \n",
            "39             3092.0        708.2       12.8  1440.7         7.4        5.00   \n",
            "40             5415.0       9873.3        4.2   807.7         2.6        3.32   \n",
            "41             2515.0        611.9        7.0  1372.9         6.0        3.61   \n",
            "42             3398.0        561.7        8.4  1232.7         6.2        3.03   \n",
            "43             2913.0        821.3        8.1  1227.2         9.1        2.33   \n",
            "44             2897.0        371.7        5.0  1051.7         7.4        5.47   \n",
            "45             3199.0        782.5        8.5  1430.5         6.9        3.21   \n",
            "46             3160.0        849.8        6.4  1080.8         8.0        3.20   \n",
            "\n",
            "    Educ_exp  Welfare_exp  \n",
            "0      21.41        16.53  \n",
            "1      17.93        13.50  \n",
            "2      20.98        15.92  \n",
            "3      25.44        18.24  \n",
            "4      20.47        15.60  \n",
            "5      20.51        12.38  \n",
            "6      18.82        21.51  \n",
            "7      17.63        18.81  \n",
            "8      24.82        15.29  \n",
            "9      24.21        17.28  \n",
            "10     20.43        17.98  \n",
            "11     17.74        16.18  \n",
            "12     20.43        17.80  \n",
            "13     26.37        17.50  \n",
            "14     20.12        13.93  \n",
            "15     16.04        10.31  \n",
            "16     21.53        15.26  \n",
            "17     23.49        17.85  \n",
            "18     21.51        23.01  \n",
            "19     21.66        14.74  \n",
            "20     17.09        17.18  \n",
            "21     20.62        19.24  \n",
            "22     25.42        17.18  \n",
            "23     17.21        13.48  \n",
            "24     20.23        15.88  \n",
            "25     25.09        15.48  \n",
            "26     22.18        15.58  \n",
            "27     24.66        17.52  \n",
            "28     17.42        12.72  \n",
            "29     21.21        15.15  \n",
            "30     20.93        16.41  \n",
            "31     24.61        17.73  \n",
            "32     20.94        21.42  \n",
            "33     22.49        15.24  \n",
            "34     27.53        20.49  \n",
            "35     27.02        15.43  \n",
            "36     19.81        11.87  \n",
            "37     21.17        16.83  \n",
            "38     25.05        16.23  \n",
            "39     17.41        13.38  \n",
            "40     16.76        14.47  \n",
            "41     19.09        13.63  \n",
            "42     22.56        13.28  \n",
            "43     19.84        14.37  \n",
            "44     19.28        13.18  \n",
            "45     23.56        15.21  \n",
            "46     20.87        12.34  \n",
            "\n",
            "[47 rows x 23 columns]\n"
          ]
        }
      ]
    },
    {
      "cell_type": "code",
      "source": [
        "x1=a2.drop(columns=[\"Life_expectancy\"],axis=1)\n",
        "y1=a2[\"Life_expectancy\"]\n",
        "print(x1)"
      ],
      "metadata": {
        "colab": {
          "base_uri": "https://localhost:8080/"
        },
        "id": "0hNizggjzZpj",
        "outputId": "28a203db-71f6-4c7e-f4ba-78f9e098dc7b"
      },
      "execution_count": 39,
      "outputs": [
        {
          "output_type": "stream",
          "name": "stdout",
          "text": [
            "   Prefecture  Physician  Junior_col  University  Public_Hosp  Pshic_hosp  \\\n",
            "0       Aichi      224.4        13.6        23.7         13.7         0.5   \n",
            "1       Akita      242.6        11.3        11.9         34.0         1.7   \n",
            "2      Aomori      212.5        11.4        11.8         42.9         1.4   \n",
            "3       Chiba      205.8        14.7        24.9         16.1         0.5   \n",
            "4       Ehime      276.7        14.2        18.0         17.4         1.0   \n",
            "5       Fukui      257.9        12.9        18.8         22.8         1.3   \n",
            "6     Fukuoka      309.9        14.2        20.4          8.9         1.2   \n",
            "7   Fukushima      205.7        11.6        13.1         20.6         1.3   \n",
            "8        Gifu      224.5        13.4        18.5         24.7         0.6   \n",
            "9       Gunma      233.8        14.7        17.5         16.5         0.7   \n",
            "10  Hiroshima      267.1        16.1        23.1         14.1         1.1   \n",
            "11   Hokkaido      251.3        14.1        14.4         21.1         1.3   \n",
            "12      Hyogo      266.1        13.7        24.5         16.6         0.6   \n",
            "13    Ibaraki      193.8        12.7        18.2          8.5         0.7   \n",
            "14   Ishikawa      291.6        14.7        19.8         28.2         1.1   \n",
            "15      Iwate      207.3        12.7        12.7         42.9         1.2   \n",
            "16     Kagawa      290.0        14.3        20.8         23.4         1.2   \n",
            "17  Kagoshima      283.6        14.4        14.0          9.1         2.3   \n",
            "18   Kanagawa      223.0        15.1        29.2         11.8         0.5   \n",
            "19      Kochi      322.0        12.9        14.3         11.7         1.6   \n",
            "20   Kumamoto      297.0        12.8        16.3         18.2         2.2   \n",
            "21      Kyoto      332.6        13.3        24.0         16.4         0.4   \n",
            "22        Mie      231.6        12.2        18.0         25.9         0.7   \n",
            "23     Miyagi      246.3        12.2        18.4         33.9         1.2   \n",
            "24   Miyazaki      255.5        12.2        13.4         19.2         1.6   \n",
            "25     Nagano      243.8        16.9        18.1         24.3         0.7   \n",
            "26   Nagasaki      319.1        12.3        14.1         18.3         2.1   \n",
            "27       Nara      277.1        15.2        26.3         21.1         0.3   \n",
            "28    Niigata      204.3        13.6        14.5         30.5         0.9   \n",
            "29       Oita      287.1        13.5        15.9         10.2         2.2   \n",
            "30    Okayama      320.1        13.9        20.4         16.6         0.8   \n",
            "31    Okinawa      257.2        13.9        15.8         18.2         0.9   \n",
            "32      Osaka      285.7        13.2        21.8          8.0         0.4   \n",
            "33       Saga      290.3        13.1        15.7         16.3         1.7   \n",
            "34    Saitama      177.8        15.1        23.9          7.4         0.6   \n",
            "35      Shiga      236.3        14.9        22.4         34.0         0.5   \n",
            "36    Shimane      297.1        12.9        15.8         42.1         1.3   \n",
            "37   Shizuoka      219.4        13.9        19.5         24.3         0.9   \n",
            "38    Tochigi      236.9        13.2        17.3          8.0         0.9   \n",
            "39  Tokushima      338.4        13.1        19.2         15.2         2.1   \n",
            "40      Tokyo      320.9        12.8        31.6          8.0         0.4   \n",
            "41    Tottori      314.8        13.4        16.6         33.3         0.7   \n",
            "42     Toyama      261.5        15.7        19.8         20.7         1.8   \n",
            "43   Wakayama      307.8        12.9        16.3         21.3         0.9   \n",
            "44   Yamagata      229.2        12.2        13.7         49.1         1.3   \n",
            "45  Yamaguchi      260.1        13.5        16.9         19.3         2.1   \n",
            "46  Yamanashi      250.1        15.9        19.9         34.6         1.0   \n",
            "\n",
            "    Beds_psic  Nurses  Avg_hours  Salary  ...  Park  Forest  \\\n",
            "0       164.3   845.4      171.5  319.45  ...  17.2    42.1   \n",
            "1       404.6  1105.5      173.0  257.30  ...  10.6    70.3   \n",
            "2       348.7  1108.8      174.5  254.50  ...  11.8    63.6   \n",
            "3       195.8   749.1      173.5  314.95  ...   5.5    30.1   \n",
            "4       329.7  1277.5      178.0  272.50  ...   7.2    70.5   \n",
            "5       284.1  1124.5      173.0  286.05  ...  14.8    73.9   \n",
            "6       407.0  1333.7      172.5  293.70  ...  17.7    44.5   \n",
            "7       339.8   994.7      173.0  275.90  ...  13.0    68.0   \n",
            "8       195.2   942.7      175.0  293.65  ...  18.4    79.0   \n",
            "9       257.5  1054.1      174.0  295.05  ...  14.0    64.0   \n",
            "10      309.7  1198.5      174.5  302.75  ...   4.5    71.9   \n",
            "11      373.9  1274.1      174.0  282.30  ...  11.2    67.7   \n",
            "12      211.2   988.3      173.5  315.35  ...  19.8    66.9   \n",
            "13      252.6   806.3      173.5  308.40  ...  14.9    32.4   \n",
            "14      325.9  1199.3      174.0  293.90  ...  12.6    66.3   \n",
            "15      339.6  1045.7      173.5  255.65  ...   4.7    74.6   \n",
            "16      345.1  1278.9      175.0  290.90  ...  10.9    46.4   \n",
            "17      589.5  1562.5      175.0  265.10  ...  13.6    63.7   \n",
            "18      147.7   715.0      174.0  345.80  ...  22.8    38.7   \n",
            "19      515.2  1640.7      173.5  269.50  ...   6.7    83.3   \n",
            "20      502.7  1524.4      176.0  276.05  ...  21.0    61.8   \n",
            "21      229.8  1015.4      172.0  321.55  ...  20.6    74.2   \n",
            "22      260.3   948.6      176.0  304.40  ...  36.1    64.2   \n",
            "23      266.7   931.1      176.0  292.20  ...  23.5    55.4   \n",
            "24      545.5  1463.0      175.0  258.20  ...  11.9    75.5   \n",
            "25      226.1  1040.6      171.0  291.50  ...  20.5    75.3   \n",
            "26      594.9  1525.3      176.0  270.75  ...  17.9    58.5   \n",
            "27      218.0   936.8      173.0  308.20  ...  17.2    76.9   \n",
            "28      283.6   948.7      173.0  268.40  ...  25.2    63.5   \n",
            "29      466.1  1449.5      176.0  274.30  ...  27.6    70.8   \n",
            "30      279.2  1200.5      175.0  290.55  ...  11.3    68.1   \n",
            "31      360.4  1096.1      174.5  265.00  ...  35.7    46.7   \n",
            "32      205.5   954.9      173.0  327.15  ...  10.5    29.9   \n",
            "33      512.8  1528.5      177.5  269.75  ...  11.0    45.3   \n",
            "34      187.5   704.0      174.0  310.35  ...  32.8    31.4   \n",
            "35      161.3   895.4      173.0  310.85  ...  37.3    50.7   \n",
            "36      336.6  1271.9      173.5  269.20  ...   6.0    78.0   \n",
            "37      180.4   855.1      173.0  300.05  ...  10.8    62.8   \n",
            "38      249.3   921.6      172.5  300.75  ...  20.8    52.9   \n",
            "39      496.8  1374.7      172.0  282.95  ...   9.3    75.4   \n",
            "40      154.3   780.7      171.5  378.15  ...  36.4    34.7   \n",
            "41      320.6  1341.0      173.0  267.50  ...  14.0    73.4   \n",
            "42      299.0  1164.4      173.0  300.35  ...  29.6    56.6   \n",
            "43      222.0  1171.8      175.0  289.55  ...  12.6    76.2   \n",
            "44      326.9  1045.1      173.0  260.90  ...  16.7    69.0   \n",
            "45      435.5  1404.1      174.0  292.10  ...   7.0    71.4   \n",
            "46      280.6   975.2      174.0  295.00  ...  27.1    77.8   \n",
            "\n",
            "    Income_per capita  Density_pop  Hospitals    Beds  Ambulances  Health_exp  \\\n",
            "0              3728.0       2517.7        3.8   758.7         3.7        2.06   \n",
            "1              2697.0        296.8        5.2  1168.5         9.0        3.24   \n",
            "2              2507.0        380.5        6.2  1112.8         9.1        3.40   \n",
            "3              3116.0       1778.4        4.1   806.2         4.2        3.53   \n",
            "4              2658.0        801.2        9.1  1274.2         7.1        4.82   \n",
            "5              3280.0        711.9        7.4  1148.3         7.3        2.40   \n",
            "6              2885.0       1858.3        7.7  1328.3         3.8        2.54   \n",
            "7              2943.0        433.3        5.6  1033.2         7.4        3.09   \n",
            "8              2919.0        895.1        4.3   834.1         7.5        3.18   \n",
            "9              3283.0        854.6        5.9  1047.7         5.8        2.59   \n",
            "10             3109.0       1217.9        7.4  1090.0         6.0        3.59   \n",
            "11             2742.0        230.2        9.2  1500.7         8.1        2.52   \n",
            "12             2968.0       1973.3        5.7   981.0         4.2        2.93   \n",
            "13             3327.0        737.2        5.3   917.2         6.0        3.06   \n",
            "14             3023.0        812.1        6.9  1221.1         5.7        2.51   \n",
            "15             2841.0        322.7        6.4  1070.8         8.4        6.05   \n",
            "16             3013.0        945.6        8.1  1188.6         5.6        4.02   \n",
            "17             2509.0        483.0       12.4  1578.1         8.8        3.32   \n",
            "18             3268.0       6267.5        3.1   676.9         3.4        2.82   \n",
            "19             2644.0        595.5       16.1  2052.6        10.1        3.84   \n",
            "20             2667.0        632.8        9.8  1440.2         6.9        3.60   \n",
            "21             2983.0       2189.8        5.9  1130.5         4.5        2.74   \n",
            "22             3121.0        857.6        4.6   903.4         6.8        3.58   \n",
            "23             2945.0        722.6        4.7   857.0         5.3        2.90   \n",
            "24             2468.0        570.1       11.2  1326.4         5.2        3.32   \n",
            "25             3010.0        630.4        5.4  1010.2         7.1        2.61   \n",
            "26             2629.0        786.8        9.1  1420.3         7.2        3.07   \n",
            "27             2632.0       1551.1        5.4  1122.0         6.2        4.06   \n",
            "28             2916.0        483.8        4.8   982.2         7.2        3.84   \n",
            "29             2714.0        626.1       11.4  1297.8         6.7        2.58   \n",
            "30             2769.0        847.5        7.7  1199.9         6.4        2.17   \n",
            "31             2391.0       1302.6        5.2  1044.5         5.7        4.37   \n",
            "32             3190.0       6624.7        5.4  1026.5         3.6        2.31   \n",
            "33             2753.0        608.0       10.6  1455.7         6.3        2.96   \n",
            "34             3047.0       2821.6        4.0   713.5         3.9        3.08   \n",
            "35             3318.0       1087.8        3.5   861.2         4.7        3.68   \n",
            "36             2667.0        528.0        5.7  1185.9        11.6        3.97   \n",
            "37             3432.0       1309.4        3.9   842.4         4.8        4.17   \n",
            "38             3479.0        643.3        4.5   896.0         5.5        4.21   \n",
            "39             3092.0        708.2       12.8  1440.7         7.4        5.00   \n",
            "40             5415.0       9873.3        4.2   807.7         2.6        3.32   \n",
            "41             2515.0        611.9        7.0  1372.9         6.0        3.61   \n",
            "42             3398.0        561.7        8.4  1232.7         6.2        3.03   \n",
            "43             2913.0        821.3        8.1  1227.2         9.1        2.33   \n",
            "44             2897.0        371.7        5.0  1051.7         7.4        5.47   \n",
            "45             3199.0        782.5        8.5  1430.5         6.9        3.21   \n",
            "46             3160.0        849.8        6.4  1080.8         8.0        3.20   \n",
            "\n",
            "    Educ_exp  Welfare_exp  \n",
            "0      21.41        16.53  \n",
            "1      17.93        13.50  \n",
            "2      20.98        15.92  \n",
            "3      25.44        18.24  \n",
            "4      20.47        15.60  \n",
            "5      20.51        12.38  \n",
            "6      18.82        21.51  \n",
            "7      17.63        18.81  \n",
            "8      24.82        15.29  \n",
            "9      24.21        17.28  \n",
            "10     20.43        17.98  \n",
            "11     17.74        16.18  \n",
            "12     20.43        17.80  \n",
            "13     26.37        17.50  \n",
            "14     20.12        13.93  \n",
            "15     16.04        10.31  \n",
            "16     21.53        15.26  \n",
            "17     23.49        17.85  \n",
            "18     21.51        23.01  \n",
            "19     21.66        14.74  \n",
            "20     17.09        17.18  \n",
            "21     20.62        19.24  \n",
            "22     25.42        17.18  \n",
            "23     17.21        13.48  \n",
            "24     20.23        15.88  \n",
            "25     25.09        15.48  \n",
            "26     22.18        15.58  \n",
            "27     24.66        17.52  \n",
            "28     17.42        12.72  \n",
            "29     21.21        15.15  \n",
            "30     20.93        16.41  \n",
            "31     24.61        17.73  \n",
            "32     20.94        21.42  \n",
            "33     22.49        15.24  \n",
            "34     27.53        20.49  \n",
            "35     27.02        15.43  \n",
            "36     19.81        11.87  \n",
            "37     21.17        16.83  \n",
            "38     25.05        16.23  \n",
            "39     17.41        13.38  \n",
            "40     16.76        14.47  \n",
            "41     19.09        13.63  \n",
            "42     22.56        13.28  \n",
            "43     19.84        14.37  \n",
            "44     19.28        13.18  \n",
            "45     23.56        15.21  \n",
            "46     20.87        12.34  \n",
            "\n",
            "[47 rows x 22 columns]\n"
          ]
        }
      ]
    },
    {
      "cell_type": "code",
      "source": [
        "print(y1)"
      ],
      "metadata": {
        "colab": {
          "base_uri": "https://localhost:8080/"
        },
        "id": "ui_esFVK0ijd",
        "outputId": "4a477599-848a-4839-c5c3-c4c4cf4e5284"
      },
      "execution_count": 40,
      "outputs": [
        {
          "output_type": "stream",
          "name": "stdout",
          "text": [
            "0     84.65\n",
            "1     83.79\n",
            "2     82.80\n",
            "3     84.48\n",
            "4     84.24\n",
            "5     84.91\n",
            "6     84.54\n",
            "7     83.71\n",
            "8     84.71\n",
            "9     84.16\n",
            "10    85.06\n",
            "11    84.00\n",
            "12    84.81\n",
            "13    83.92\n",
            "14    85.06\n",
            "15    83.85\n",
            "16    84.60\n",
            "17    84.24\n",
            "18    84.97\n",
            "19    84.32\n",
            "20    85.07\n",
            "21    85.25\n",
            "22    84.64\n",
            "23    84.61\n",
            "24    84.38\n",
            "25    85.46\n",
            "26    84.21\n",
            "27    85.18\n",
            "28    84.43\n",
            "29    84.91\n",
            "30    85.10\n",
            "31    84.31\n",
            "32    84.09\n",
            "33    84.60\n",
            "34    84.38\n",
            "35    85.50\n",
            "36    84.92\n",
            "37    84.54\n",
            "38    83.95\n",
            "39    84.35\n",
            "40    84.82\n",
            "41    84.63\n",
            "42    84.86\n",
            "43    84.20\n",
            "44    84.39\n",
            "45    84.28\n",
            "46    84.83\n",
            "Name: Life_expectancy, dtype: float64\n"
          ]
        }
      ]
    },
    {
      "cell_type": "code",
      "source": [
        "import numpy as np\n",
        "import pandas as pd\n",
        "from sklearn.preprocessing import MinMaxScaler\n",
        "from sklearn.model_selection import train_test_split\n",
        "import matplotlib.pyplot as plt\n",
        "e = pd.read_csv('/content/Japan_life_expectancy.csv')\n",
        "features = e.drop(\"Life_expectancy\", axis=1)\n",
        "print('factors influence life expectancy in Japan are',features.columns)"
      ],
      "metadata": {
        "id": "3qx_MgYC0qtu",
        "colab": {
          "base_uri": "https://localhost:8080/"
        },
        "outputId": "7d4390c2-adc4-4839-bbf8-bd0f1a1c9a00"
      },
      "execution_count": 46,
      "outputs": [
        {
          "output_type": "stream",
          "name": "stdout",
          "text": [
            "factors influence life expectancy in Japan are Index(['Prefecture', 'Physician', 'Junior_col', 'University', 'Public_Hosp',\n",
            "       'Pshic_hosp', 'Beds_psic', 'Nurses', 'Avg_hours', 'Salary',\n",
            "       'Elementary_school', 'Sport_fac', 'Park', 'Forest', 'Income_per capita',\n",
            "       'Density_pop', 'Hospitals', 'Beds', 'Ambulances', 'Health_exp',\n",
            "       'Educ_exp', 'Welfare_exp'],\n",
            "      dtype='object')\n"
          ]
        }
      ]
    },
    {
      "cell_type": "code",
      "source": [],
      "metadata": {
        "id": "57UNL7Fc8D1g"
      },
      "execution_count": null,
      "outputs": []
    }
  ]
}